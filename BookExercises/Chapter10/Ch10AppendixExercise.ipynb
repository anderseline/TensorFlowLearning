{
 "cells": [
  {
   "cell_type": "markdown",
   "metadata": {},
   "source": [
    "# Building a DNN on MNIST Dataset"
   ]
  },
  {
   "cell_type": "code",
   "execution_count": 1,
   "metadata": {},
   "outputs": [],
   "source": [
    "import tensorflow as tf\n",
    "from tensorflow import keras \n",
    "import pandas as pd\n",
    "from sklearn.preprocessing import Normalizer\n",
    "import matplotlib.pyplot as plt\n",
    "import numpy as np \n",
    "import os "
   ]
  },
  {
   "cell_type": "code",
   "execution_count": 2,
   "metadata": {},
   "outputs": [],
   "source": [
    "(X_train_full, y_train_full), (X_test, y_test) = keras.datasets.mnist.load_data()"
   ]
  },
  {
   "cell_type": "code",
   "execution_count": 3,
   "metadata": {},
   "outputs": [],
   "source": [
    "X_train, y_train, X_valid, y_valid = X_train_full[:50000], y_train_full[:50000], X_train_full[50000:], y_train_full[50000:]"
   ]
  },
  {
   "cell_type": "markdown",
   "metadata": {},
   "source": [
    "Function to rescale data between 0 and 1. Also reshapes input from (28, 28) to a single stream of 784 "
   ]
  },
  {
   "cell_type": "code",
   "execution_count": 4,
   "metadata": {},
   "outputs": [],
   "source": [
    "norm = Normalizer(norm='max')\n",
    "def app_norm(data):\n",
    "    nsamples, x, y = data.shape\n",
    "    data_2d = data.reshape((nsamples, x*y))\n",
    "    return norm.fit_transform(data_2d)\n",
    "X_train, X_valid, X_test = app_norm(X_train), app_norm(X_valid), app_norm(X_test)"
   ]
  },
  {
   "cell_type": "code",
   "execution_count": 5,
   "metadata": {},
   "outputs": [
    {
     "data": {
      "image/png": "[encoded data removed]",
      "text/plain": [
       "<Figure size 432x288 with 1 Axes>"
      ]
     },
     "metadata": {
      "needs_background": "light"
     },
     "output_type": "display_data"
    }
   ],
   "source": [
    "plt.imshow(X_train[0].reshape(28, 28), cmap='binary')\n",
    "plt.axis('off')\n",
    "plt.show()"
   ]
  },
  {
   "cell_type": "code",
   "execution_count": 6,
   "metadata": {},
   "outputs": [
    {
     "data": {
      "text/plain": [
       "array([5, 0, 4, ..., 8, 4, 8], dtype=uint8)"
      ]
     },
     "execution_count": 6,
     "metadata": {},
     "output_type": "execute_result"
    }
   ],
   "source": [
    "y_train"
   ]
  },
  {
   "cell_type": "code",
   "execution_count": 7,
   "metadata": {},
   "outputs": [],
   "source": [
    "K = keras.backend\n",
    "\n",
    "class ExponentialLearningRate(keras.callbacks.Callback):\n",
    "    def __init__(self, factor):\n",
    "        self.factor = factor\n",
    "        self.rates = []\n",
    "        self.losses = []\n",
    "    def on_batch_end(self, batch, logs):\n",
    "        self.rates.append(K.get_value(self.model.optimizer.learning_rate))\n",
    "        self.losses.append(logs['loss'])\n",
    "        K.set_value(self.model.optimizer.learning_rate, self.model.optimizer.learning_rate * self.factor)"
   ]
  },
  {
   "cell_type": "code",
   "execution_count": 8,
   "metadata": {},
   "outputs": [],
   "source": [
    "keras.backend.clear_session\n",
    "np.random.seed(42)\n",
    "tf.random.set_seed(42)"
   ]
  },
  {
   "cell_type": "code",
   "execution_count": 9,
   "metadata": {},
   "outputs": [],
   "source": [
    "model = keras.models.Sequential([\n",
    "    keras.layers.InputLayer(input_shape=X_train.shape[1:]),\n",
    "    keras.layers.Dense(300, activation='relu'),\n",
    "    keras.layers.Dense(100, activation='relu'),\n",
    "    keras.layers.Dense(10, activation='softmax')\n",
    "])"
   ]
  },
  {
   "cell_type": "code",
   "execution_count": 10,
   "metadata": {},
   "outputs": [
    {
     "name": "stdout",
     "output_type": "stream",
     "text": [
      "Model: \"sequential\"\n",
      "_________________________________________________________________\n",
      " Layer (type)                Output Shape              Param #   \n",
      "=================================================================\n",
      " dense (Dense)               (None, 300)               235500    \n",
      "                                                                 \n",
      " dense_1 (Dense)             (None, 100)               30100     \n",
      "                                                                 \n",
      " dense_2 (Dense)             (None, 10)                1010      \n",
      "                                                                 \n",
      "=================================================================\n",
      "Total params: 266,610\n",
      "Trainable params: 266,610\n",
      "Non-trainable params: 0\n",
      "_________________________________________________________________\n"
     ]
    }
   ],
   "source": [
    "model.summary()"
   ]
  },
  {
   "cell_type": "code",
   "execution_count": 11,
   "metadata": {},
   "outputs": [],
   "source": [
    "model.compile(\n",
    "    loss='sparse_categorical_crossentropy', optimizer=keras.optimizers.SGD(learning_rate=1e-3), metrics=['accuracy']\n",
    ")\n",
    "# grow learning rate by 0.5% at each iteration \n",
    "expon_lr = ExponentialLearningRate(factor=1.005)"
   ]
  },
  {
   "cell_type": "code",
   "execution_count": 12,
   "metadata": {},
   "outputs": [
    {
     "name": "stdout",
     "output_type": "stream",
     "text": [
      "1563/1563 [==============================] - 5s 3ms/step - loss: nan - accuracy: 0.6282 - val_loss: nan - val_accuracy: 0.0991\n"
     ]
    }
   ],
   "source": [
    "history = model.fit(\n",
    "    X_train, y_train, epochs=1, validation_data = (X_valid, y_valid), callbacks=[expon_lr]\n",
    ")"
   ]
  },
  {
   "cell_type": "code",
   "execution_count": 13,
   "metadata": {},
   "outputs": [
    {
     "data": {
      "text/plain": [
       "Text(0, 0.5, 'loss')"
      ]
     },
     "execution_count": 13,
     "metadata": {},
     "output_type": "execute_result"
    },
    {
     "data": {
      "image/png": "[encoded data removed]",
      "text/plain": [
       "<Figure size 432x288 with 1 Axes>"
      ]
     },
     "metadata": {
      "needs_background": "light"
     },
     "output_type": "display_data"
    }
   ],
   "source": [
    "plt.plot(expon_lr.rates, expon_lr.losses)\n",
    "plt.gca().set_xscale('log')\n",
    "plt.hlines(min(expon_lr.losses), min(expon_lr.rates), max(expon_lr.rates))\n",
    "plt.axis([min(expon_lr.rates), max(expon_lr.rates), 0, 2.5])\n",
    "plt.grid()\n",
    "plt.xlabel('learning rate')\n",
    "plt.ylabel('loss')"
   ]
  },
  {
   "cell_type": "code",
   "execution_count": 14,
   "metadata": {},
   "outputs": [],
   "source": [
    "# based on graph, use lr = 3e-1\n",
    "\n",
    "keras.backend.clear_session()\n",
    "np.random.seed(42)\n",
    "tf.random.set_seed(42)"
   ]
  },
  {
   "cell_type": "code",
   "execution_count": 15,
   "metadata": {},
   "outputs": [],
   "source": [
    "model = keras.models.Sequential([\n",
    "    keras.layers.InputLayer(input_shape=X_train.shape[1:]),\n",
    "    keras.layers.Dense(300, activation='relu'),\n",
    "    keras.layers.Dense(100, activation='relu'),\n",
    "    keras.layers.Dense(10, activation='softmax')\n",
    "])"
   ]
  },
  {
   "cell_type": "code",
   "execution_count": 16,
   "metadata": {},
   "outputs": [],
   "source": [
    "model.compile(\n",
    "    loss='sparse_categorical_crossentropy', optimizer=keras.optimizers.SGD(learning_rate=3e-1), metrics=['accuracy']\n",
    ")"
   ]
  },
  {
   "cell_type": "code",
   "execution_count": 17,
   "metadata": {},
   "outputs": [
    {
     "data": {
      "text/plain": [
       "'.\\\\mnist_logs\\\\run_001'"
      ]
     },
     "execution_count": 17,
     "metadata": {},
     "output_type": "execute_result"
    }
   ],
   "source": [
    "run_index = 1 # increment at every run\n",
    "run_logdir = os.path.join(os.curdir, 'mnist_logs', 'run_{:03d}'.format(run_index))\n",
    "run_logdir"
   ]
  },
  {
   "cell_type": "code",
   "execution_count": 18,
   "metadata": {},
   "outputs": [],
   "source": [
    "class Callback(tf.keras.callbacks.Callback):\n",
    "    def on_epoch_end(self, epoch, logs={}):\n",
    "        if (logs.get('accuracy')>0.98):\n",
    "            print(\"98% accuracy reached in training, cancelling training.\")\n",
    "            self.model.stop_training = True\n",
    "\n",
    "callback = Callback()\n",
    "early_stopping_callback = keras.callbacks.EarlyStopping(patience=20)\n",
    "checkpoint_cb = keras.callbacks.ModelCheckpoint('models/MNIST_model.h5', save_best_only=True)\n",
    "tensorboard_cb = keras.callbacks.TensorBoard(run_logdir)"
   ]
  },
  {
   "cell_type": "code",
   "execution_count": 19,
   "metadata": {},
   "outputs": [
    {
     "name": "stdout",
     "output_type": "stream",
     "text": [
      "Epoch 1/100\n",
      "1563/1563 [==============================] - 5s 3ms/step - loss: 0.2452 - accuracy: 0.9235 - val_loss: 0.1462 - val_accuracy: 0.9574\n",
      "Epoch 2/100\n",
      "1563/1563 [==============================] - 5s 3ms/step - loss: 0.1014 - accuracy: 0.9682 - val_loss: 0.1070 - val_accuracy: 0.9688\n",
      "Epoch 3/100\n",
      "1563/1563 [==============================] - 5s 3ms/step - loss: 0.0674 - accuracy: 0.9783 - val_loss: 0.0968 - val_accuracy: 0.9727\n",
      "Epoch 4/100\n",
      "1563/1563 [==============================] - 4s 2ms/step - loss: 0.0500 - accuracy: 0.9838 - val_loss: 0.0903 - val_accuracy: 0.9760\n",
      "Epoch 5/100\n",
      "1563/1563 [==============================] - 4s 2ms/step - loss: 0.0375 - accuracy: 0.9881 - val_loss: 0.1020 - val_accuracy: 0.9752\n",
      "Epoch 6/100\n",
      "1563/1563 [==============================] - 4s 2ms/step - loss: 0.0281 - accuracy: 0.9906 - val_loss: 0.0922 - val_accuracy: 0.9771\n",
      "Epoch 7/100\n",
      "1563/1563 [==============================] - 4s 2ms/step - loss: 0.0211 - accuracy: 0.9929 - val_loss: 0.0805 - val_accuracy: 0.9802\n",
      "Epoch 8/100\n",
      "1563/1563 [==============================] - 4s 2ms/step - loss: 0.0157 - accuracy: 0.9948 - val_loss: 0.0984 - val_accuracy: 0.9772\n",
      "Epoch 9/100\n",
      "1563/1563 [==============================] - 4s 2ms/step - loss: 0.0166 - accuracy: 0.9943 - val_loss: 0.1020 - val_accuracy: 0.9761\n",
      "Epoch 10/100\n",
      "1563/1563 [==============================] - 4s 2ms/step - loss: 0.0131 - accuracy: 0.9959 - val_loss: 0.0891 - val_accuracy: 0.9816\n",
      "Epoch 11/100\n",
      "1563/1563 [==============================] - 4s 2ms/step - loss: 0.0081 - accuracy: 0.9976 - val_loss: 0.0970 - val_accuracy: 0.9811\n",
      "Epoch 12/100\n",
      "1563/1563 [==============================] - 4s 2ms/step - loss: 0.0080 - accuracy: 0.9975 - val_loss: 0.1162 - val_accuracy: 0.9769\n",
      "Epoch 13/100\n",
      "1563/1563 [==============================] - 4s 3ms/step - loss: 0.0064 - accuracy: 0.9978 - val_loss: 0.1157 - val_accuracy: 0.9806\n",
      "Epoch 14/100\n",
      "1563/1563 [==============================] - 4s 3ms/step - loss: 0.0102 - accuracy: 0.9967 - val_loss: 0.1052 - val_accuracy: 0.9805\n",
      "Epoch 15/100\n",
      "1563/1563 [==============================] - 4s 2ms/step - loss: 0.0113 - accuracy: 0.9963 - val_loss: 0.1230 - val_accuracy: 0.9780\n",
      "Epoch 16/100\n",
      "1563/1563 [==============================] - 4s 2ms/step - loss: 0.0121 - accuracy: 0.9962 - val_loss: 0.1288 - val_accuracy: 0.9773\n",
      "Epoch 17/100\n",
      "1563/1563 [==============================] - 4s 3ms/step - loss: 0.0109 - accuracy: 0.9962 - val_loss: 0.1252 - val_accuracy: 0.9777\n",
      "Epoch 18/100\n",
      "1563/1563 [==============================] - 4s 2ms/step - loss: 0.0063 - accuracy: 0.9979 - val_loss: 0.1094 - val_accuracy: 0.9810\n",
      "Epoch 19/100\n",
      "1563/1563 [==============================] - 4s 2ms/step - loss: 0.0102 - accuracy: 0.9967 - val_loss: 0.1308 - val_accuracy: 0.9767\n",
      "Epoch 20/100\n",
      "1563/1563 [==============================] - 5s 3ms/step - loss: 0.0062 - accuracy: 0.9980 - val_loss: 0.1203 - val_accuracy: 0.9789\n",
      "Epoch 21/100\n",
      "1563/1563 [==============================] - 5s 3ms/step - loss: 0.0033 - accuracy: 0.9989 - val_loss: 0.1188 - val_accuracy: 0.9814\n",
      "Epoch 22/100\n",
      "1563/1563 [==============================] - 4s 3ms/step - loss: 0.0014 - accuracy: 0.9996 - val_loss: 0.1243 - val_accuracy: 0.9798\n",
      "Epoch 23/100\n",
      "1563/1563 [==============================] - 4s 3ms/step - loss: 0.0055 - accuracy: 0.9982 - val_loss: 0.1378 - val_accuracy: 0.9776\n",
      "Epoch 24/100\n",
      "1563/1563 [==============================] - 5s 3ms/step - loss: 0.0024 - accuracy: 0.9994 - val_loss: 0.1075 - val_accuracy: 0.9817\n",
      "Epoch 25/100\n",
      "1563/1563 [==============================] - 4s 3ms/step - loss: 0.0010 - accuracy: 0.9997 - val_loss: 0.1135 - val_accuracy: 0.9819\n",
      "Epoch 26/100\n",
      "1563/1563 [==============================] - 4s 3ms/step - loss: 2.7306e-04 - accuracy: 0.9999 - val_loss: 0.1081 - val_accuracy: 0.9832\n",
      "Epoch 27/100\n",
      "1563/1563 [==============================] - 4s 3ms/step - loss: 5.6932e-05 - accuracy: 1.0000 - val_loss: 0.1082 - val_accuracy: 0.9832\n"
     ]
    }
   ],
   "source": [
    "history = model.fit(\n",
    "    X_train, y_train, epochs=100, validation_data=(X_valid, y_valid), callbacks=[early_stopping_callback, checkpoint_cb, tensorboard_cb]\n",
    ")"
   ]
  },
  {
   "cell_type": "code",
   "execution_count": 20,
   "metadata": {},
   "outputs": [
    {
     "data": {
      "image/png": "[encoded data removed]",
      "text/plain": [
       "<Figure size 576x360 with 1 Axes>"
      ]
     },
     "metadata": {
      "needs_background": "light"
     },
     "output_type": "display_data"
    }
   ],
   "source": [
    "pd.DataFrame(history.history).plot(figsize=(8,5))\n",
    "plt.grid(True)\n",
    "plt.gca().set_ylim(0,1)\n",
    "plt.show()"
   ]
  },
  {
   "cell_type": "code",
   "execution_count": 21,
   "metadata": {},
   "outputs": [
    {
     "name": "stdout",
     "output_type": "stream",
     "text": [
      "313/313 [==============================] - 1s 2ms/step - loss: 0.0751 - accuracy: 0.9808\n"
     ]
    },
    {
     "data": {
      "text/plain": [
       "[0.07510235160589218, 0.9807999730110168]"
      ]
     },
     "execution_count": 21,
     "metadata": {},
     "output_type": "execute_result"
    }
   ],
   "source": [
    "model = keras.models.load_model('models/MNIST_model.h5') # rollback to best model\n",
    "model.evaluate(X_test, y_test)"
   ]
  },
  {
   "cell_type": "code",
   "execution_count": 22,
   "metadata": {},
   "outputs": [
    {
     "name": "stderr",
     "output_type": "stream",
     "text": [
      "UsageError: Line magic function `%tensorboard` not found.\n"
     ]
    }
   ],
   "source": [
    "%tensorboard --logdir=.//mnist_logs --port=6006"
   ]
  }
 ],
 "metadata": {
  "kernelspec": {
   "display_name": "Python 3.9.1 64-bit",
   "language": "python",
   "name": "python3"
  },
  "language_info": {
   "codemirror_mode": {
    "name": "ipython",
    "version": 3
   },
   "file_extension": ".py",
   "mimetype": "text/x-python",
   "name": "python",
   "nbconvert_exporter": "python",
   "pygments_lexer": "ipython3",
   "version": "3.9.1"
  },
  "orig_nbformat": 4,
  "vscode": {
   "interpreter": {
    "hash": "4daf73df99b5d5ee04b9c4f6d0c928016b99f4a7167499c60f06ba788794ec50"
   }
  }
 },
 "nbformat": 4,
 "nbformat_minor": 2
}
