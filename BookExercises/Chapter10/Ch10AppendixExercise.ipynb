{
 "cells": [
  {
   "cell_type": "markdown",
   "metadata": {},
   "source": [
    "# Building a DNN on MNIST Dataset"
   ]
  },
  {
   "cell_type": "code",
   "execution_count": 142,
   "metadata": {},
   "outputs": [],
   "source": [
    "import tensorflow as tf\n",
    "from tensorflow import keras \n",
    "from sklearn.metrics import precision_score\n",
    "from sklearn.preprocessing import Normalizer"
   ]
  },
  {
   "cell_type": "code",
   "execution_count": 143,
   "metadata": {},
   "outputs": [],
   "source": [
    "(X_train_full, y_train_full), (X_test, y_test) = keras.datasets.mnist.load_data()"
   ]
  },
  {
   "cell_type": "code",
   "execution_count": 144,
   "metadata": {},
   "outputs": [],
   "source": [
    "X_train, y_train, X_valid, y_valid = X_train_full[:50000], y_train_full[:50000], X_train_full[50000:], y_train_full[50000:]"
   ]
  },
  {
   "cell_type": "markdown",
   "metadata": {},
   "source": [
    "Function to rescale data between 0 and 1. Also reshapes input from (28, 28) to a single stream of 784 "
   ]
  },
  {
   "cell_type": "code",
   "execution_count": 145,
   "metadata": {},
   "outputs": [],
   "source": [
    "norm = Normalizer(norm='max')\n",
    "def app_norm(data):\n",
    "    nsamples, x, y = data.shape\n",
    "    data_2d = data.reshape((nsamples, x*y))\n",
    "    return norm.fit_transform(data_2d)\n",
    "X_train, X_valid, X_test = app_norm(X_train), app_norm(X_valid), app_norm(X_test)"
   ]
  },
  {
   "cell_type": "code",
   "execution_count": 146,
   "metadata": {},
   "outputs": [],
   "source": [
    "model = keras.models.Sequential([\n",
    "    keras.layers.Dense(100, input_shape=X_train.shape[1:]),\n",
    "    keras.layers.Dense(100, activation='relu'),\n",
    "    keras.layers.Dense(100, activation='relu'),\n",
    "    keras.layers.Dense(10, activation='softmax')\n",
    "])"
   ]
  },
  {
   "cell_type": "code",
   "execution_count": 147,
   "metadata": {},
   "outputs": [
    {
     "name": "stdout",
     "output_type": "stream",
     "text": [
      "Model: \"sequential_9\"\n",
      "_________________________________________________________________\n",
      " Layer (type)                Output Shape              Param #   \n",
      "=================================================================\n",
      " dense_35 (Dense)            (None, 100)               78500     \n",
      "                                                                 \n",
      " dense_36 (Dense)            (None, 100)               10100     \n",
      "                                                                 \n",
      " dense_37 (Dense)            (None, 100)               10100     \n",
      "                                                                 \n",
      " dense_38 (Dense)            (None, 10)                1010      \n",
      "                                                                 \n",
      "=================================================================\n",
      "Total params: 99,710\n",
      "Trainable params: 99,710\n",
      "Non-trainable params: 0\n",
      "_________________________________________________________________\n"
     ]
    }
   ],
   "source": [
    "model.summary()"
   ]
  },
  {
   "cell_type": "code",
   "execution_count": 148,
   "metadata": {},
   "outputs": [],
   "source": [
    "model.compile(\n",
    "    loss='sparse_categorical_crossentropy', optimizer=keras.optimizers.SGD(learning_rate=0.01), metrics=['accuracy']\n",
    ")"
   ]
  },
  {
   "cell_type": "code",
   "execution_count": 149,
   "metadata": {},
   "outputs": [],
   "source": [
    "early_stopping_callback = keras.callbacks.EarlyStopping(patience=10, restore_best_weights=True)"
   ]
  },
  {
   "cell_type": "code",
   "execution_count": 150,
   "metadata": {},
   "outputs": [],
   "source": [
    "class Callback(tf.keras.callbacks.Callback):\n",
    "    def on_epoch_end(self, epoch, logs={}):\n",
    "        if (logs.get('accuracy')>0.98):\n",
    "            print(\"98% accuracy reached in training, cancelling training.\")\n",
    "            self.model.stop_training = True\n",
    "\n",
    "callback = Callback()"
   ]
  },
  {
   "cell_type": "code",
   "execution_count": 151,
   "metadata": {},
   "outputs": [
    {
     "name": "stdout",
     "output_type": "stream",
     "text": [
      "Epoch 1/30\n",
      "1563/1563 [==============================] - 4s 2ms/step - loss: 0.6526 - accuracy: 0.8205 - val_loss: 0.3050 - val_accuracy: 0.9140\n",
      "Epoch 2/30\n",
      "1563/1563 [==============================] - 3s 2ms/step - loss: 0.3012 - accuracy: 0.9116 - val_loss: 0.2474 - val_accuracy: 0.9282\n",
      "Epoch 3/30\n",
      "1563/1563 [==============================] - 3s 2ms/step - loss: 0.2477 - accuracy: 0.9284 - val_loss: 0.2145 - val_accuracy: 0.9408\n",
      "Epoch 4/30\n",
      "1563/1563 [==============================] - 4s 2ms/step - loss: 0.2145 - accuracy: 0.9367 - val_loss: 0.1916 - val_accuracy: 0.9454\n",
      "Epoch 5/30\n",
      "1563/1563 [==============================] - 4s 2ms/step - loss: 0.1903 - accuracy: 0.9436 - val_loss: 0.1803 - val_accuracy: 0.9490\n",
      "Epoch 6/30\n",
      "1563/1563 [==============================] - 3s 2ms/step - loss: 0.1715 - accuracy: 0.9489 - val_loss: 0.1628 - val_accuracy: 0.9527\n",
      "Epoch 7/30\n",
      "1563/1563 [==============================] - 4s 2ms/step - loss: 0.1562 - accuracy: 0.9538 - val_loss: 0.1520 - val_accuracy: 0.9570\n",
      "Epoch 8/30\n",
      "1563/1563 [==============================] - 3s 2ms/step - loss: 0.1428 - accuracy: 0.9577 - val_loss: 0.1513 - val_accuracy: 0.9569\n",
      "Epoch 9/30\n",
      "1563/1563 [==============================] - 3s 2ms/step - loss: 0.1313 - accuracy: 0.9607 - val_loss: 0.1373 - val_accuracy: 0.9608\n",
      "Epoch 10/30\n",
      "1563/1563 [==============================] - 4s 2ms/step - loss: 0.1222 - accuracy: 0.9639 - val_loss: 0.1322 - val_accuracy: 0.9605\n",
      "Epoch 11/30\n",
      "1563/1563 [==============================] - 3s 2ms/step - loss: 0.1142 - accuracy: 0.9659 - val_loss: 0.1263 - val_accuracy: 0.9631\n",
      "Epoch 12/30\n",
      "1563/1563 [==============================] - 3s 2ms/step - loss: 0.1063 - accuracy: 0.9685 - val_loss: 0.1218 - val_accuracy: 0.9654\n",
      "Epoch 13/30\n",
      "1563/1563 [==============================] - 3s 2ms/step - loss: 0.0998 - accuracy: 0.9706 - val_loss: 0.1152 - val_accuracy: 0.9680\n",
      "Epoch 14/30\n",
      "1563/1563 [==============================] - 3s 2ms/step - loss: 0.0938 - accuracy: 0.9724 - val_loss: 0.1116 - val_accuracy: 0.9666\n",
      "Epoch 15/30\n",
      "1563/1563 [==============================] - 4s 2ms/step - loss: 0.0878 - accuracy: 0.9740 - val_loss: 0.1093 - val_accuracy: 0.9679\n",
      "Epoch 16/30\n",
      "1563/1563 [==============================] - 3s 2ms/step - loss: 0.0835 - accuracy: 0.9751 - val_loss: 0.1099 - val_accuracy: 0.9686\n",
      "Epoch 17/30\n",
      "1563/1563 [==============================] - 3s 2ms/step - loss: 0.0788 - accuracy: 0.9766 - val_loss: 0.1062 - val_accuracy: 0.9701\n",
      "Epoch 18/30\n",
      "1563/1563 [==============================] - 3s 2ms/step - loss: 0.0746 - accuracy: 0.9774 - val_loss: 0.1026 - val_accuracy: 0.9705\n",
      "Epoch 19/30\n",
      "1563/1563 [==============================] - 3s 2ms/step - loss: 0.0711 - accuracy: 0.9786 - val_loss: 0.0987 - val_accuracy: 0.9713\n",
      "Epoch 20/30\n",
      "1546/1563 [============================>.] - ETA: 0s - loss: 0.0673 - accuracy: 0.980498% accuracy reached in training, cancelling training.\n",
      "1563/1563 [==============================] - 3s 2ms/step - loss: 0.0671 - accuracy: 0.9804 - val_loss: 0.0971 - val_accuracy: 0.9722\n"
     ]
    }
   ],
   "source": [
    "history = model.fit(\n",
    "    X_train, y_train, epochs=30, validation_data=(X_valid, y_valid), callbacks=[early_stopping_callback, callback]\n",
    ")"
   ]
  },
  {
   "cell_type": "code",
   "execution_count": 152,
   "metadata": {},
   "outputs": [],
   "source": [
    "model.save('models/MNIST_model.h5')"
   ]
  },
  {
   "cell_type": "code",
   "execution_count": 153,
   "metadata": {},
   "outputs": [
    {
     "data": {
      "image/png": "[encoded data removed]",
      "text/plain": [
       "<Figure size 576x360 with 1 Axes>"
      ]
     },
     "metadata": {
      "needs_background": "light"
     },
     "output_type": "display_data"
    }
   ],
   "source": [
    "import pandas as pd \n",
    "import matplotlib.pyplot as plt \n",
    "\n",
    "pd.DataFrame(history.history).plot(figsize=(8,5))\n",
    "plt.grid(True)\n",
    "plt.gca().set_ylim(0,1)\n",
    "plt.show()"
   ]
  },
  {
   "cell_type": "code",
   "execution_count": 156,
   "metadata": {},
   "outputs": [
    {
     "name": "stdout",
     "output_type": "stream",
     "text": [
      "313/313 [==============================] - 0s 1ms/step - loss: 0.0982 - accuracy: 0.9705\n"
     ]
    },
    {
     "data": {
      "text/plain": [
       "[0.0982302874326706, 0.9704999923706055]"
      ]
     },
     "execution_count": 156,
     "metadata": {},
     "output_type": "execute_result"
    }
   ],
   "source": [
    "model.evaluate(X_test, y_test)"
   ]
  },
  {
   "cell_type": "code",
   "execution_count": 155,
   "metadata": {},
   "outputs": [],
   "source": [
    "y_pred = model.predict(X_test)"
   ]
  }
 ],
 "metadata": {
  "kernelspec": {
   "display_name": "Python 3.9.1 64-bit",
   "language": "python",
   "name": "python3"
  },
  "language_info": {
   "codemirror_mode": {
    "name": "ipython",
    "version": 3
   },
   "file_extension": ".py",
   "mimetype": "text/x-python",
   "name": "python",
   "nbconvert_exporter": "python",
   "pygments_lexer": "ipython3",
   "version": "3.9.1"
  },
  "orig_nbformat": 4,
  "vscode": {
   "interpreter": {
    "hash": "4daf73df99b5d5ee04b9c4f6d0c928016b99f4a7167499c60f06ba788794ec50"
   }
  }
 },
 "nbformat": 4,
 "nbformat_minor": 2
}
