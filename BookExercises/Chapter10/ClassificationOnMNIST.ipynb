{
 "cells": [
  {
   "cell_type": "markdown",
   "metadata": {},
   "source": [
    "# Chapter 10 - Classification on Fashion MNIST "
   ]
  },
  {
   "cell_type": "code",
   "execution_count": 21,
   "metadata": {},
   "outputs": [],
   "source": [
    "import tensorflow as tf\n",
    "from tensorflow import keras "
   ]
  },
  {
   "cell_type": "code",
   "execution_count": 22,
   "metadata": {},
   "outputs": [
    {
     "data": {
      "text/plain": [
       "'2.8.0'"
      ]
     },
     "execution_count": 22,
     "metadata": {},
     "output_type": "execute_result"
    }
   ],
   "source": [
    "tf.__version__"
   ]
  },
  {
   "cell_type": "code",
   "execution_count": 23,
   "metadata": {},
   "outputs": [
    {
     "data": {
      "text/plain": [
       "'2.8.0'"
      ]
     },
     "execution_count": 23,
     "metadata": {},
     "output_type": "execute_result"
    }
   ],
   "source": [
    "keras.__version__"
   ]
  },
  {
   "cell_type": "code",
   "execution_count": 24,
   "metadata": {},
   "outputs": [],
   "source": [
    "fashion_mnist = keras.datasets.fashion_mnist\n",
    "(X_train_full, y_train_full), (X_test, y_test) = fashion_mnist.load_data()"
   ]
  },
  {
   "cell_type": "code",
   "execution_count": 25,
   "metadata": {},
   "outputs": [
    {
     "data": {
      "text/plain": [
       "(60000, 28, 28)"
      ]
     },
     "execution_count": 25,
     "metadata": {},
     "output_type": "execute_result"
    }
   ],
   "source": [
    "X_train_full.shape"
   ]
  },
  {
   "cell_type": "code",
   "execution_count": 26,
   "metadata": {},
   "outputs": [
    {
     "data": {
      "text/plain": [
       "dtype('uint8')"
      ]
     },
     "execution_count": 26,
     "metadata": {},
     "output_type": "execute_result"
    }
   ],
   "source": [
    "X_train_full.dtype"
   ]
  },
  {
   "cell_type": "markdown",
   "metadata": {},
   "source": [
    "Split into training and testing sets, but there is no validation set included, we need to make our own. Also, since each of the pixel intensities and valued from 0-255 (integers), these must be scaled in order to use gradient descent to train the network. In this case we can simply divide through by 255. "
   ]
  },
  {
   "cell_type": "code",
   "execution_count": 27,
   "metadata": {},
   "outputs": [],
   "source": [
    "X_valid, X_train = X_train_full[:5000] / 255.0, X_train_full[5000:] / 255.0\n",
    "y_valid, y_train = y_train_full[:5000], y_train_full[5000:]\n",
    "X_test = X_test / 255.0"
   ]
  },
  {
   "cell_type": "markdown",
   "metadata": {},
   "source": [
    "Create an array corresponding to the target classes in the dataset to make comparing instances easier (says the clothing item rather than a number)."
   ]
  },
  {
   "cell_type": "code",
   "execution_count": 28,
   "metadata": {},
   "outputs": [],
   "source": [
    "class_names = [\n",
    "    't-shirt', 'trouser', 'pullover', 'dress', 'coat', 'sandal', 'shirt', 'sneaker', 'bag', 'ankle boot'\n",
    "]"
   ]
  },
  {
   "cell_type": "code",
   "execution_count": 29,
   "metadata": {},
   "outputs": [
    {
     "data": {
      "text/plain": [
       "'coat'"
      ]
     },
     "execution_count": 29,
     "metadata": {},
     "output_type": "execute_result"
    }
   ],
   "source": [
    "class_names[y_train[0]]"
   ]
  },
  {
   "cell_type": "markdown",
   "metadata": {},
   "source": [
    "Build network using the ```Sequential``` API"
   ]
  },
  {
   "cell_type": "code",
   "execution_count": 30,
   "metadata": {},
   "outputs": [],
   "source": [
    "model = keras.models.Sequential([\n",
    "    keras.layers.Flatten(input_shape = [28,28]),\n",
    "    keras.layers.Dense(300, activation='relu'),\n",
    "    keras.layers.Dense(100, activation='relu'),\n",
    "    keras.layers.Dense(10, activation='softmax')\n",
    "])"
   ]
  },
  {
   "cell_type": "markdown",
   "metadata": {},
   "source": [
    "1. A sequential model is the simplest kind of Keras model for ANNs. Composed of a single stack of layers connected in sequence\n",
    "2. The flatten layer takes the [28,28] array and converts it into a one dimensional array of length 784\n",
    "3. Dense hidden layer with 300 neruons using the relu activation function. Each dense layer manages its own weight matrix, and the vector of bias terms(one oper neuron). When it receives data, it computes:\n",
    "\n",
    "$ h(X) = \\phi(XW + b) $\n",
    "\n",
    "4. Second dense layer with 100 neurons \n",
    "5. Dense output layer with 10 neurons using the softmax activation function to handle multiclass classification\n",
    "\n",
    "<i>Note, activation='relu' is the same as activation=keras.activations.relu<i> "
   ]
  },
  {
   "cell_type": "markdown",
   "metadata": {},
   "source": [
    "The ```Summary()``` method displays all of the model's layers, including names (which can be specified), the output shape, and the number of parameters. The cell ends with the total number of trainable and non-trainable parameters.\n",
    "- The first hidden layer has 784x300 + 300 parameters\n",
    "- The second hidden layer has 300x100 + 100 parameters\n",
    "- The output layer has 100x10 + 10 parameters\n",
    "\n",
    "This large number of parameters gives the model flexibility to fit the training data, but also runs the risk of overfitting"
   ]
  },
  {
   "cell_type": "code",
   "execution_count": 31,
   "metadata": {},
   "outputs": [
    {
     "name": "stdout",
     "output_type": "stream",
     "text": [
      "Model: \"sequential_5\"\n",
      "_________________________________________________________________\n",
      " Layer (type)                Output Shape              Param #   \n",
      "=================================================================\n",
      " flatten_5 (Flatten)         (None, 784)               0         \n",
      "                                                                 \n",
      " dense_5 (Dense)             (None, 300)               235500    \n",
      "                                                                 \n",
      " dense_6 (Dense)             (None, 100)               30100     \n",
      "                                                                 \n",
      " dense_7 (Dense)             (None, 10)                1010      \n",
      "                                                                 \n",
      "=================================================================\n",
      "Total params: 266,610\n",
      "Trainable params: 266,610\n",
      "Non-trainable params: 0\n",
      "_________________________________________________________________\n"
     ]
    }
   ],
   "source": [
    "model.summary()"
   ]
  },
  {
   "cell_type": "markdown",
   "metadata": {},
   "source": [
    "Can also fetch layers individually"
   ]
  },
  {
   "cell_type": "code",
   "execution_count": 32,
   "metadata": {},
   "outputs": [
    {
     "data": {
      "text/plain": [
       "[<keras.layers.core.flatten.Flatten at 0x1ff695a66a0>,\n",
       " <keras.layers.core.dense.Dense at 0x1ff695a6190>,\n",
       " <keras.layers.core.dense.Dense at 0x1ff6957bf10>,\n",
       " <keras.layers.core.dense.Dense at 0x1ff6957bfa0>]"
      ]
     },
     "execution_count": 32,
     "metadata": {},
     "output_type": "execute_result"
    }
   ],
   "source": [
    "model.layers"
   ]
  },
  {
   "cell_type": "code",
   "execution_count": 33,
   "metadata": {},
   "outputs": [
    {
     "data": {
      "text/plain": [
       "'dense_5'"
      ]
     },
     "execution_count": 33,
     "metadata": {},
     "output_type": "execute_result"
    }
   ],
   "source": [
    "hidden1 = model.layers[1]\n",
    "hidden1.name"
   ]
  },
  {
   "cell_type": "markdown",
   "metadata": {},
   "source": [
    "All parameters of a layer can be accessed or changed by the ```get_weights()``` and ```set_weights()``` methods. For dense layers, this includes both connection weights and the bias terms"
   ]
  },
  {
   "cell_type": "code",
   "execution_count": 35,
   "metadata": {},
   "outputs": [
    {
     "data": {
      "text/plain": [
       "array([[-0.06973743,  0.03022268,  0.00787708, ..., -0.06169983,\n",
       "         0.06507325, -0.06707786],\n",
       "       [ 0.05229227, -0.01831034,  0.04437585, ...,  0.05680779,\n",
       "         0.00692124, -0.05088422],\n",
       "       [-0.05802464,  0.05243388, -0.06587885, ..., -0.04469822,\n",
       "         0.04606741,  0.04675977],\n",
       "       ...,\n",
       "       [ 0.0259416 ,  0.04164015,  0.02632207, ..., -0.01158979,\n",
       "        -0.03016219,  0.06555636],\n",
       "       [ 0.05157621,  0.05726978, -0.0645757 , ..., -0.01540582,\n",
       "         0.04861944, -0.03078499],\n",
       "       [-0.07425401, -0.06731239, -0.07249878, ..., -0.04195371,\n",
       "         0.0311972 , -0.05528462]], dtype=float32)"
      ]
     },
     "execution_count": 35,
     "metadata": {},
     "output_type": "execute_result"
    }
   ],
   "source": [
    "weights, biases = hidden1.get_weights()\n",
    "weights"
   ]
  },
  {
   "cell_type": "code",
   "execution_count": 36,
   "metadata": {},
   "outputs": [
    {
     "data": {
      "text/plain": [
       "array([0., 0., 0., 0., 0., 0., 0., 0., 0., 0., 0., 0., 0., 0., 0., 0., 0.,\n",
       "       0., 0., 0., 0., 0., 0., 0., 0., 0., 0., 0., 0., 0., 0., 0., 0., 0.,\n",
       "       0., 0., 0., 0., 0., 0., 0., 0., 0., 0., 0., 0., 0., 0., 0., 0., 0.,\n",
       "       0., 0., 0., 0., 0., 0., 0., 0., 0., 0., 0., 0., 0., 0., 0., 0., 0.,\n",
       "       0., 0., 0., 0., 0., 0., 0., 0., 0., 0., 0., 0., 0., 0., 0., 0., 0.,\n",
       "       0., 0., 0., 0., 0., 0., 0., 0., 0., 0., 0., 0., 0., 0., 0., 0., 0.,\n",
       "       0., 0., 0., 0., 0., 0., 0., 0., 0., 0., 0., 0., 0., 0., 0., 0., 0.,\n",
       "       0., 0., 0., 0., 0., 0., 0., 0., 0., 0., 0., 0., 0., 0., 0., 0., 0.,\n",
       "       0., 0., 0., 0., 0., 0., 0., 0., 0., 0., 0., 0., 0., 0., 0., 0., 0.,\n",
       "       0., 0., 0., 0., 0., 0., 0., 0., 0., 0., 0., 0., 0., 0., 0., 0., 0.,\n",
       "       0., 0., 0., 0., 0., 0., 0., 0., 0., 0., 0., 0., 0., 0., 0., 0., 0.,\n",
       "       0., 0., 0., 0., 0., 0., 0., 0., 0., 0., 0., 0., 0., 0., 0., 0., 0.,\n",
       "       0., 0., 0., 0., 0., 0., 0., 0., 0., 0., 0., 0., 0., 0., 0., 0., 0.,\n",
       "       0., 0., 0., 0., 0., 0., 0., 0., 0., 0., 0., 0., 0., 0., 0., 0., 0.,\n",
       "       0., 0., 0., 0., 0., 0., 0., 0., 0., 0., 0., 0., 0., 0., 0., 0., 0.,\n",
       "       0., 0., 0., 0., 0., 0., 0., 0., 0., 0., 0., 0., 0., 0., 0., 0., 0.,\n",
       "       0., 0., 0., 0., 0., 0., 0., 0., 0., 0., 0., 0., 0., 0., 0., 0., 0.,\n",
       "       0., 0., 0., 0., 0., 0., 0., 0., 0., 0., 0.], dtype=float32)"
      ]
     },
     "execution_count": 36,
     "metadata": {},
     "output_type": "execute_result"
    }
   ],
   "source": [
    "biases"
   ]
  },
  {
   "cell_type": "markdown",
   "metadata": {},
   "source": [
    "All weights are initialized randomly, and all biases are set to 0 at the outset of training. A different initialization method can be chosen by setting ```kernel_initializer``` or ```bias_initializer``` when creating the layer. "
   ]
  },
  {
   "cell_type": "markdown",
   "metadata": {},
   "source": [
    "Once the model is created, it needs to be compiled by calling ```compile()``` to specify the loss function and the optimizer to use. Other metrics to compute during training and evaluation can also be specified. "
   ]
  },
  {
   "cell_type": "code",
   "execution_count": 37,
   "metadata": {},
   "outputs": [],
   "source": [
    "model.compile(\n",
    "    loss='sparse_categorical_crossentropy', optimizer='sgd', metrics=['accuracy']\n",
    ")"
   ]
  },
  {
   "cell_type": "markdown",
   "metadata": {},
   "source": [
    "Using ```loss='sparse_categorical_crossentropy'``` is the same as using ```loss=keras.losses.sparse_categorical_crossentropy```\n",
    "\n",
    "```opimizer = 'sgd'``` is the same as ```optimizer = keras.optimizers.SGD()```"
   ]
  },
  {
   "cell_type": "markdown",
   "metadata": {},
   "source": [
    "Using sparse categorical crossentropy since the labels are sparse (single target class index from 0-9 in this case), and the classes are exclusive. If instead we had one target probability per class (ex. one hot vectors), then categorical_crossentropy would be used instead. Binary or multilabel binary classification would use the sigmoid activation function in the output layer instead of softmax, and binary_crossentropy loss. "
   ]
  },
  {
   "cell_type": "markdown",
   "metadata": {},
   "source": [
    "To change to sparse labels (categorical) from one-hot: ```keras.utils.to_categoricals()```\n",
    "\n",
    "To change to one-hot from sparse labels: ```np.argmax()``` with ```axis=1``` "
   ]
  },
  {
   "cell_type": "markdown",
   "metadata": {},
   "source": [
    "Using the ```SGD``` optimizer means training with stochastic gradient descent, keras performs backpropagation algorithm (reverse-mode autodiff plus gradient descent).\n",
    "\n",
    "In practice, the learning rate is usually tuned and set as ```optimizer = keras.optimizers.SGD(lr=?)```, the default value is 0.01"
   ]
  },
  {
   "cell_type": "markdown",
   "metadata": {},
   "source": [
    "When the model is ready to be trained, call the fit method on the training data"
   ]
  },
  {
   "cell_type": "code",
   "execution_count": 38,
   "metadata": {},
   "outputs": [
    {
     "name": "stdout",
     "output_type": "stream",
     "text": [
      "Epoch 1/30\n",
      "1719/1719 [==============================] - 4s 2ms/step - loss: 0.6962 - accuracy: 0.7716 - val_loss: 0.4960 - val_accuracy: 0.8348\n",
      "Epoch 2/30\n",
      "1719/1719 [==============================] - 3s 2ms/step - loss: 0.4841 - accuracy: 0.8316 - val_loss: 0.4721 - val_accuracy: 0.8410\n",
      "Epoch 3/30\n",
      "1719/1719 [==============================] - 3s 2ms/step - loss: 0.4407 - accuracy: 0.8461 - val_loss: 0.4145 - val_accuracy: 0.8552\n",
      "Epoch 4/30\n",
      "1719/1719 [==============================] - 4s 2ms/step - loss: 0.4139 - accuracy: 0.8552 - val_loss: 0.4226 - val_accuracy: 0.8540\n",
      "Epoch 5/30\n",
      "1719/1719 [==============================] - 4s 3ms/step - loss: 0.3960 - accuracy: 0.8603 - val_loss: 0.3823 - val_accuracy: 0.8708\n",
      "Epoch 6/30\n",
      "1719/1719 [==============================] - 4s 2ms/step - loss: 0.3799 - accuracy: 0.8670 - val_loss: 0.3853 - val_accuracy: 0.8668\n",
      "Epoch 7/30\n",
      "1719/1719 [==============================] - 4s 3ms/step - loss: 0.3648 - accuracy: 0.8718 - val_loss: 0.3695 - val_accuracy: 0.8724\n",
      "Epoch 8/30\n",
      "1719/1719 [==============================] - 4s 2ms/step - loss: 0.3546 - accuracy: 0.8743 - val_loss: 0.3536 - val_accuracy: 0.8750\n",
      "Epoch 9/30\n",
      "1719/1719 [==============================] - 4s 2ms/step - loss: 0.3439 - accuracy: 0.8785 - val_loss: 0.3462 - val_accuracy: 0.8800\n",
      "Epoch 10/30\n",
      "1719/1719 [==============================] - 4s 2ms/step - loss: 0.3339 - accuracy: 0.8814 - val_loss: 0.3437 - val_accuracy: 0.8790\n",
      "Epoch 11/30\n",
      "1719/1719 [==============================] - 4s 2ms/step - loss: 0.3254 - accuracy: 0.8838 - val_loss: 0.3566 - val_accuracy: 0.8758\n",
      "Epoch 12/30\n",
      "1719/1719 [==============================] - 4s 2ms/step - loss: 0.3163 - accuracy: 0.8873 - val_loss: 0.3358 - val_accuracy: 0.8820\n",
      "Epoch 13/30\n",
      "1719/1719 [==============================] - 4s 2ms/step - loss: 0.3096 - accuracy: 0.8891 - val_loss: 0.3466 - val_accuracy: 0.8790\n",
      "Epoch 14/30\n",
      "1719/1719 [==============================] - 4s 2ms/step - loss: 0.3023 - accuracy: 0.8921 - val_loss: 0.3345 - val_accuracy: 0.8840\n",
      "Epoch 15/30\n",
      "1719/1719 [==============================] - 4s 2ms/step - loss: 0.2955 - accuracy: 0.8932 - val_loss: 0.3162 - val_accuracy: 0.8876\n",
      "Epoch 16/30\n",
      "1719/1719 [==============================] - 4s 2ms/step - loss: 0.2894 - accuracy: 0.8958 - val_loss: 0.3301 - val_accuracy: 0.8828\n",
      "Epoch 17/30\n",
      "1719/1719 [==============================] - 4s 2ms/step - loss: 0.2836 - accuracy: 0.8987 - val_loss: 0.3473 - val_accuracy: 0.8772\n",
      "Epoch 18/30\n",
      "1719/1719 [==============================] - 4s 2ms/step - loss: 0.2787 - accuracy: 0.8995 - val_loss: 0.3117 - val_accuracy: 0.8884\n",
      "Epoch 19/30\n",
      "1719/1719 [==============================] - 4s 2ms/step - loss: 0.2728 - accuracy: 0.9027 - val_loss: 0.3259 - val_accuracy: 0.8786\n",
      "Epoch 20/30\n",
      "1719/1719 [==============================] - 4s 2ms/step - loss: 0.2667 - accuracy: 0.9038 - val_loss: 0.3190 - val_accuracy: 0.8892\n",
      "Epoch 21/30\n",
      "1719/1719 [==============================] - 5s 3ms/step - loss: 0.2631 - accuracy: 0.9048 - val_loss: 0.3042 - val_accuracy: 0.8950\n",
      "Epoch 22/30\n",
      "1719/1719 [==============================] - 4s 3ms/step - loss: 0.2583 - accuracy: 0.9072 - val_loss: 0.3191 - val_accuracy: 0.8882\n",
      "Epoch 23/30\n",
      "1719/1719 [==============================] - 5s 3ms/step - loss: 0.2532 - accuracy: 0.9088 - val_loss: 0.3325 - val_accuracy: 0.8836\n",
      "Epoch 24/30\n",
      "1719/1719 [==============================] - 5s 3ms/step - loss: 0.2490 - accuracy: 0.9115 - val_loss: 0.3149 - val_accuracy: 0.8924\n",
      "Epoch 25/30\n",
      "1719/1719 [==============================] - 4s 3ms/step - loss: 0.2444 - accuracy: 0.9122 - val_loss: 0.3143 - val_accuracy: 0.8878\n",
      "Epoch 26/30\n",
      "1719/1719 [==============================] - 4s 3ms/step - loss: 0.2399 - accuracy: 0.9130 - val_loss: 0.3038 - val_accuracy: 0.8906\n",
      "Epoch 27/30\n",
      "1719/1719 [==============================] - 4s 2ms/step - loss: 0.2360 - accuracy: 0.9156 - val_loss: 0.2961 - val_accuracy: 0.8924\n",
      "Epoch 28/30\n",
      "1719/1719 [==============================] - 4s 3ms/step - loss: 0.2321 - accuracy: 0.9163 - val_loss: 0.3127 - val_accuracy: 0.8880\n",
      "Epoch 29/30\n",
      "1719/1719 [==============================] - 4s 3ms/step - loss: 0.2282 - accuracy: 0.9188 - val_loss: 0.3147 - val_accuracy: 0.8896\n",
      "Epoch 30/30\n",
      "1719/1719 [==============================] - 5s 3ms/step - loss: 0.2246 - accuracy: 0.9193 - val_loss: 0.3133 - val_accuracy: 0.8870\n"
     ]
    }
   ],
   "source": [
    "history = model.fit(\n",
    "    X_train, y_train, epochs=30, validation_data=(X_valid, y_valid)\n",
    ")"
   ]
  },
  {
   "cell_type": "markdown",
   "metadata": {},
   "source": [
    "Instead of passing a validation dataset directly to the fit function, you could instead use the ```validation_split``` parameter which takes a proportion (ex. 0.1) of the training dat provided to use as the validation set.  "
   ]
  },
  {
   "cell_type": "markdown",
   "metadata": {},
   "source": [
    "If the training data is very skewed, you can also use the ```class_weight``` parameter when calling the ```fit()``` method to give larger weight to underrepresented classes. These are used by Keras when computing the loss."
   ]
  },
  {
   "cell_type": "markdown",
   "metadata": {},
   "source": [
    "The ```fit()``` method returns a ```history``` object containing the training parameters, ```history.params```, the list of epochs through history ```history.epoch```, and a dictionary, ```history.history```, containing the loss and extra metrics it measured at the end of each epoch on the training set and the validation set if applicable. This can be used to create a dataframe and plot metrics overtime through training and to create learning curves.  "
   ]
  },
  {
   "cell_type": "code",
   "execution_count": 40,
   "metadata": {},
   "outputs": [
    {
     "data": {
      "image/png": "[encoded data removed]",
      "text/plain": [
       "<Figure size 576x360 with 1 Axes>"
      ]
     },
     "metadata": {
      "needs_background": "light"
     },
     "output_type": "display_data"
    }
   ],
   "source": [
    "import pandas as pd \n",
    "import matplotlib.pyplot as plt \n",
    "\n",
    "pd.DataFrame(history.history).plot(figsize=(8,5))\n",
    "plt.grid(True)\n",
    "plt.gca().set_ylim(0,1)\n",
    "plt.show()"
   ]
  },
  {
   "cell_type": "markdown",
   "metadata": {},
   "source": [
    "Both training and validation accuracy increase over time, while the training and validation loss decrease. The validation data and training data are also not too far off from each other, suggesting that there is not much overfitting happening on the training data.\n",
    "\n",
    "It also appears that the model performed better on the validation set at the beginning of training, but this is not the case. The validation error is computed at the end of each epoch, while the training error is computed during each epoch, so the training curve should be shifted by half an epoch to the left. \n",
    "\n",
    "It also looks like the model has not quite converged yet, so more training could be done in order to increase accuracy. You could just call the ```fit()``` method again to resume where you left off. "
   ]
  },
  {
   "cell_type": "markdown",
   "metadata": {},
   "source": [
    "To further improve the model, the hyperparameters should be tuned - starting always with the learning rate. Otherwise, you could try another optimizer, and then try to change the model archetecture, such as the number of layers, neurons per layer, and the activation functions. You could also change parameters such as batch size (which is set in the ```fit()``` method with a default of 32). \n",
    "\n",
    "Once a satisfactory accuracy is reached on the validation data, it should be evaluated on the test set. This is done using the ```evaluate()``` method. "
   ]
  },
  {
   "cell_type": "code",
   "execution_count": 41,
   "metadata": {},
   "outputs": [
    {
     "name": "stdout",
     "output_type": "stream",
     "text": [
      "313/313 [==============================] - 0s 1ms/step - loss: 0.3473 - accuracy: 0.8742\n"
     ]
    },
    {
     "data": {
      "text/plain": [
       "[0.34729471802711487, 0.8741999864578247]"
      ]
     },
     "execution_count": 41,
     "metadata": {},
     "output_type": "execute_result"
    }
   ],
   "source": [
    "model.evaluate(X_test, y_test)"
   ]
  }
 ],
 "metadata": {
  "kernelspec": {
   "display_name": "Python 3.9.1 64-bit",
   "language": "python",
   "name": "python3"
  },
  "language_info": {
   "codemirror_mode": {
    "name": "ipython",
    "version": 3
   },
   "file_extension": ".py",
   "mimetype": "text/x-python",
   "name": "python",
   "nbconvert_exporter": "python",
   "pygments_lexer": "ipython3",
   "version": "3.9.1"
  },
  "orig_nbformat": 4,
  "vscode": {
   "interpreter": {
    "hash": "4daf73df99b5d5ee04b9c4f6d0c928016b99f4a7167499c60f06ba788794ec50"
   }
  }
 },
 "nbformat": 4,
 "nbformat_minor": 2
}
