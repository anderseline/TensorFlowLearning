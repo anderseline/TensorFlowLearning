{
 "cells": [
  {
   "cell_type": "markdown",
   "metadata": {},
   "source": [
    "# Chapter 10 - Using the Subclassing, Saving Models and Using Callbacks"
   ]
  },
  {
   "cell_type": "markdown",
   "metadata": {},
   "source": [
    "With keras, you can subclass the ```model``` class to create models with more flexibility from a given framework. "
   ]
  },
  {
   "cell_type": "code",
   "execution_count": 1,
   "metadata": {},
   "outputs": [],
   "source": [
    "import tensorflow as tf\n",
    "from tensorflow import keras "
   ]
  },
  {
   "cell_type": "code",
   "execution_count": 2,
   "metadata": {},
   "outputs": [],
   "source": [
    "class WideAndDeepModel(keras.Model):\n",
    "    def __init___(self, units=30, activation='relu', **kwargs):\n",
    "        super().__init__(**kwargs)\n",
    "        self.hidden1 = keras.layers.Dense(units, activation)\n",
    "        self.hidden2 = keras.layers.Dense(units, activation)\n",
    "        self.main_output = keras.layers.Dense(1)\n",
    "        self.aux_output = keras.layers.Dense(1)\n",
    "\n",
    "    def call(self, inputs):\n",
    "        input_A, input_B = inputs\n",
    "        hidden1 = self.hidden1(input_B)\n",
    "        hidden2 = self.hidden2(hidden1)\n",
    "        concat = keras.layers.concatenate([input_A, input_B])\n",
    "        main_output = self.main_output(concat)\n",
    "        aux_output = self.aux_output(hidden2)\n",
    "        return main_output, aux_output"
   ]
  },
  {
   "cell_type": "code",
   "execution_count": 3,
   "metadata": {},
   "outputs": [],
   "source": [
    "model = WideAndDeepModel()"
   ]
  },
  {
   "cell_type": "markdown",
   "metadata": {},
   "source": [
    "Same model from the end of Example2, except we do not need to create all the inputs. We just input the argument to the ```call()``` method, and separate the creation of the layers in the constructor from their usage in the ```call()``` method. You can do pretty much anything within the ```call()``` method, this construction of the model gives much more adaptability. \n",
    "\n",
    "This flexibility is met with some problems.\n",
    "- Keras can not easily inspect this model since the archetecture is hidden within the call method, so it can not be easily saved or cloned\n",
    "- The summary method does not give any information on how the layers are connected to each other\n",
    "- Keras also cannot check types and shapes ahead of time, so it is easier to make mistakes"
   ]
  },
  {
   "cell_type": "markdown",
   "metadata": {},
   "source": [
    "Saving and Resotring a Keras model using the Sequential or Functional API:\n",
    "\n",
    "(this will not work when subclassing)"
   ]
  },
  {
   "cell_type": "code",
   "execution_count": null,
   "metadata": {},
   "outputs": [],
   "source": [
    "# define, compile, and fit the model as usual ... \n",
    "# saving\n",
    "model.save('my_model.h5')\n",
    "# loading\n",
    "model = keras.model.load_model('my_model.h5')"
   ]
  },
  {
   "cell_type": "markdown",
   "metadata": {},
   "source": [
    "Saving the model is useful as training will often last several hours, so it prevents accidentally deleting the model and having to retrain all over again. To avoid losing everything if the computer crashes during training, use callbacks. These can also be used to stop training early if a predetermined level of accuracy is reached. \n",
    "You can also set ```save_best_only``` to true in the checkpoint constructor to save only the best model on the validation set."
   ]
  },
  {
   "cell_type": "code",
   "execution_count": null,
   "metadata": {},
   "outputs": [],
   "source": [
    "# will not compile, but shows how to use a callback \n",
    "checkpoint_cb = keras.callbacks.ModelCheckpoint('my_model.h5', save_best_only=True)\n",
    "history = model.fit(X_train, y_train, epochs=10, callbacks=[checkpoint_cb])\n"
   ]
  },
  {
   "cell_type": "markdown",
   "metadata": {},
   "source": [
    "Can also use the ```EarlyStopping``` callback to interrput training when no progress is being made on the validation set for a number of epochs, defined by the ```patience``` argument. This callback will keep track of the best weights and restore them for you at the end of training."
   ]
  },
  {
   "cell_type": "code",
   "execution_count": null,
   "metadata": {},
   "outputs": [],
   "source": [
    "early_stopping_callback = keras.callbacks.EarlyStopping(patience=10, restore_best_weights=True)"
   ]
  }
 ],
 "metadata": {
  "kernelspec": {
   "display_name": "Python 3.9.1 64-bit",
   "language": "python",
   "name": "python3"
  },
  "language_info": {
   "codemirror_mode": {
    "name": "ipython",
    "version": 3
   },
   "file_extension": ".py",
   "mimetype": "text/x-python",
   "name": "python",
   "nbconvert_exporter": "python",
   "pygments_lexer": "ipython3",
   "version": "3.9.1"
  },
  "orig_nbformat": 4,
  "vscode": {
   "interpreter": {
    "hash": "4daf73df99b5d5ee04b9c4f6d0c928016b99f4a7167499c60f06ba788794ec50"
   }
  }
 },
 "nbformat": 4,
 "nbformat_minor": 2
}
