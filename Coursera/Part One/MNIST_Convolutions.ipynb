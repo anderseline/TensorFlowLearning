{
 "cells": [
  {
   "cell_type": "markdown",
   "metadata": {},
   "source": [
    "# Improving Fashion MNIST with Convolutions "
   ]
  },
  {
   "cell_type": "code",
   "execution_count": 1,
   "metadata": {},
   "outputs": [],
   "source": [
    "import tensorflow as tf\n",
    "from tensorflow import keras\n",
    "import numpy as np\n",
    "import matplotlib.pyplot as plt"
   ]
  },
  {
   "cell_type": "code",
   "execution_count": 2,
   "metadata": {},
   "outputs": [],
   "source": [
    "(X_train_full, y_train_full), (X_test, y_test) = tf.keras.datasets.mnist.load_data()"
   ]
  },
  {
   "cell_type": "code",
   "execution_count": 3,
   "metadata": {},
   "outputs": [],
   "source": [
    "X_train = (X_train_full[:50000] / 255.0).reshape(50000, 28, 28, 1)\n",
    "y_train = y_train_full[:50000] \n",
    "X_valid = (X_train_full[50000:] / 255.0).reshape(10000, 28, 28, 1)\n",
    "y_valid = y_train_full[50000:]"
   ]
  },
  {
   "cell_type": "code",
   "execution_count": 4,
   "metadata": {},
   "outputs": [
    {
     "data": {
      "image/png": "[encoded data removed]",
      "text/plain": [
       "<Figure size 432x288 with 1 Axes>"
      ]
     },
     "metadata": {
      "needs_background": "light"
     },
     "output_type": "display_data"
    }
   ],
   "source": [
    "plt.imshow(X_train[0].reshape(28,28), cmap='binary')\n",
    "plt.axis('off')\n",
    "plt.show()"
   ]
  },
  {
   "cell_type": "code",
   "execution_count": 5,
   "metadata": {},
   "outputs": [],
   "source": [
    "model = keras.Sequential([\n",
    "    keras.layers.Conv2D(64, (3, 3), activation='relu', input_shape=(28,28,1)),\n",
    "    keras.layers.MaxPool2D((2,2)),\n",
    "    keras.layers.Conv2D(64, (3, 3), activation='relu', input_shape=(28,28,1)),\n",
    "    keras.layers.MaxPool2D((2,2)),\n",
    "    keras.layers.Flatten(),\n",
    "    keras.layers.Dense(128, activation='relu'),\n",
    "    keras.layers.Dense(128, activation='relu'),\n",
    "    keras.layers.Dense(128, activation='relu'),\n",
    "    keras.layers.Dense(10, activation='softmax')\n",
    "])"
   ]
  },
  {
   "cell_type": "code",
   "execution_count": 6,
   "metadata": {},
   "outputs": [
    {
     "name": "stdout",
     "output_type": "stream",
     "text": [
      "Model: \"sequential\"\n",
      "_________________________________________________________________\n",
      " Layer (type)                Output Shape              Param #   \n",
      "=================================================================\n",
      " conv2d (Conv2D)             (None, 26, 26, 64)        640       \n",
      "                                                                 \n",
      " max_pooling2d (MaxPooling2D  (None, 13, 13, 64)       0         \n",
      " )                                                               \n",
      "                                                                 \n",
      " conv2d_1 (Conv2D)           (None, 11, 11, 64)        36928     \n",
      "                                                                 \n",
      " max_pooling2d_1 (MaxPooling  (None, 5, 5, 64)         0         \n",
      " 2D)                                                             \n",
      "                                                                 \n",
      " flatten (Flatten)           (None, 1600)              0         \n",
      "                                                                 \n",
      " dense (Dense)               (None, 128)               204928    \n",
      "                                                                 \n",
      " dense_1 (Dense)             (None, 128)               16512     \n",
      "                                                                 \n",
      " dense_2 (Dense)             (None, 128)               16512     \n",
      "                                                                 \n",
      " dense_3 (Dense)             (None, 10)                1290      \n",
      "                                                                 \n",
      "=================================================================\n",
      "Total params: 276,810\n",
      "Trainable params: 276,810\n",
      "Non-trainable params: 0\n",
      "_________________________________________________________________\n"
     ]
    }
   ],
   "source": [
    "model.summary()"
   ]
  },
  {
   "cell_type": "code",
   "execution_count": 7,
   "metadata": {},
   "outputs": [],
   "source": [
    "class AccuracyCallback(tf.keras.callbacks.Callback):\n",
    "    def on_epoch_end(self, epochs, logs = {}):\n",
    "        if logs.get('accuracy') > 0.998:\n",
    "            print('Over 99.8 accuracy reached, stopping training')\n",
    "            self.model.stop_training = True"
   ]
  },
  {
   "cell_type": "code",
   "execution_count": 8,
   "metadata": {},
   "outputs": [],
   "source": [
    "save_best_model_callback = tf.keras.callbacks.ModelCheckpoint('model/MNIST_conv.h5', save_best_only=True)\n",
    "early_stopping_callback = tf.keras.callbacks.EarlyStopping(patience=10)\n",
    "accuracy_callback = AccuracyCallback()"
   ]
  },
  {
   "cell_type": "code",
   "execution_count": 9,
   "metadata": {},
   "outputs": [],
   "source": [
    "model.compile(\n",
    "    loss='sparse_categorical_crossentropy', optimizer='nadam', metrics=['accuracy']\n",
    ")"
   ]
  },
  {
   "cell_type": "code",
   "execution_count": 10,
   "metadata": {},
   "outputs": [
    {
     "name": "stdout",
     "output_type": "stream",
     "text": [
      "Epoch 1/100\n",
      "1563/1563 [==============================] - 47s 29ms/step - loss: 0.1478 - accuracy: 0.9534 - val_loss: 0.0516 - val_accuracy: 0.9845\n",
      "Epoch 2/100\n",
      "1563/1563 [==============================] - 47s 30ms/step - loss: 0.0473 - accuracy: 0.9859 - val_loss: 0.0466 - val_accuracy: 0.9860\n",
      "Epoch 3/100\n",
      "1563/1563 [==============================] - 47s 30ms/step - loss: 0.0326 - accuracy: 0.9905 - val_loss: 0.0514 - val_accuracy: 0.9862\n",
      "Epoch 4/100\n",
      "1563/1563 [==============================] - 46s 30ms/step - loss: 0.0259 - accuracy: 0.9921 - val_loss: 0.0351 - val_accuracy: 0.9908\n",
      "Epoch 5/100\n",
      "1563/1563 [==============================] - 46s 30ms/step - loss: 0.0209 - accuracy: 0.9932 - val_loss: 0.0474 - val_accuracy: 0.9885\n",
      "Epoch 6/100\n",
      "1563/1563 [==============================] - 47s 30ms/step - loss: 0.0178 - accuracy: 0.9947 - val_loss: 0.0417 - val_accuracy: 0.9886\n",
      "Epoch 7/100\n",
      "1563/1563 [==============================] - 47s 30ms/step - loss: 0.0141 - accuracy: 0.9955 - val_loss: 0.0418 - val_accuracy: 0.9902\n",
      "Epoch 8/100\n",
      "1563/1563 [==============================] - 49s 31ms/step - loss: 0.0124 - accuracy: 0.9962 - val_loss: 0.0505 - val_accuracy: 0.9897\n",
      "Epoch 9/100\n",
      "1563/1563 [==============================] - 57s 37ms/step - loss: 0.0115 - accuracy: 0.9966 - val_loss: 0.0561 - val_accuracy: 0.9880\n",
      "Epoch 10/100\n",
      "1563/1563 [==============================] - 51s 33ms/step - loss: 0.0094 - accuracy: 0.9973 - val_loss: 0.0580 - val_accuracy: 0.9894\n",
      "Epoch 11/100\n",
      "1563/1563 [==============================] - 46s 30ms/step - loss: 0.0110 - accuracy: 0.9968 - val_loss: 0.0399 - val_accuracy: 0.9910\n",
      "Epoch 12/100\n",
      "1563/1563 [==============================] - 46s 29ms/step - loss: 0.0087 - accuracy: 0.9974 - val_loss: 0.0532 - val_accuracy: 0.9882\n",
      "Epoch 13/100\n",
      "1563/1563 [==============================] - 46s 29ms/step - loss: 0.0086 - accuracy: 0.9976 - val_loss: 0.0549 - val_accuracy: 0.9900\n",
      "Epoch 14/100\n",
      "1563/1563 [==============================] - 46s 29ms/step - loss: 0.0080 - accuracy: 0.9977 - val_loss: 0.0536 - val_accuracy: 0.9897\n"
     ]
    },
    {
     "data": {
      "text/plain": [
       "<keras.callbacks.History at 0x17f92baca30>"
      ]
     },
     "execution_count": 10,
     "metadata": {},
     "output_type": "execute_result"
    }
   ],
   "source": [
    "model.fit(\n",
    "    X_train, y_train, epochs=100, validation_data=(X_valid, y_valid), \n",
    "    callbacks=[early_stopping_callback, accuracy_callback, save_best_model_callback]\n",
    ")"
   ]
  },
  {
   "cell_type": "code",
   "execution_count": 11,
   "metadata": {},
   "outputs": [
    {
     "name": "stdout",
     "output_type": "stream",
     "text": [
      "313/313 [==============================] - 3s 8ms/step - loss: 18.3082 - accuracy: 0.9867\n"
     ]
    },
    {
     "data": {
      "text/plain": [
       "[18.30820655822754, 0.9866999983787537]"
      ]
     },
     "execution_count": 11,
     "metadata": {},
     "output_type": "execute_result"
    }
   ],
   "source": [
    "model.evaluate(X_test, y_test)"
   ]
  }
 ],
 "metadata": {
  "kernelspec": {
   "display_name": "Python 3.9.1 64-bit",
   "language": "python",
   "name": "python3"
  },
  "language_info": {
   "codemirror_mode": {
    "name": "ipython",
    "version": 3
   },
   "file_extension": ".py",
   "mimetype": "text/x-python",
   "name": "python",
   "nbconvert_exporter": "python",
   "pygments_lexer": "ipython3",
   "version": "3.9.1"
  },
  "orig_nbformat": 4,
  "vscode": {
   "interpreter": {
    "hash": "4daf73df99b5d5ee04b9c4f6d0c928016b99f4a7167499c60f06ba788794ec50"
   }
  }
 },
 "nbformat": 4,
 "nbformat_minor": 2
}
